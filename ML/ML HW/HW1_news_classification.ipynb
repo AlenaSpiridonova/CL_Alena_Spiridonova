{
  "nbformat": 4,
  "nbformat_minor": 0,
  "metadata": {
    "colab": {
      "name": "Копия блокнота \"HW1-news_classification.ipynb\"",
      "provenance": [],
      "collapsed_sections": []
    },
    "kernelspec": {
      "display_name": "Python 3",
      "language": "python",
      "name": "python3"
    },
    "language_info": {
      "codemirror_mode": {
        "name": "ipython",
        "version": 3
      },
      "file_extension": ".py",
      "mimetype": "text/x-python",
      "name": "python",
      "nbconvert_exporter": "python",
      "pygments_lexer": "ipython3",
      "version": "3.8.2"
    }
  },
  "cells": [
    {
      "cell_type": "markdown",
      "metadata": {
        "id": "5E3uW78FqJPu"
      },
      "source": [
        "В этом дз необходимо обучить модели для классификации. Cегодня попробуем отличать настоящие новости от фейковых\n",
        "\n"
      ]
    },
    {
      "cell_type": "code",
      "metadata": {
        "id": "YdbgyTKbqJQC"
      },
      "source": [
        "# ячейка импортов\n",
        "\n",
        "import numpy as np\n",
        "import pandas as pd\n",
        "\n",
        "# импорт моделей\n",
        "from sklearn import feature_extraction, model_selection, naive_bayes, metrics, svm\n",
        "from sklearn.tree import DecisionTreeClassifier\n",
        "from sklearn.ensemble import RandomForestClassifier, GradientBoostingClassifier\n",
        "\n",
        "\n",
        "from sklearn.metrics import classification_report # табличка с метриками\n",
        "\n",
        "import matplotlib.pyplot as plt\n",
        "from collections import Counter\n",
        "\n",
        "\n",
        "# import warnings\n",
        "# warnings.filterwarnings(\"ignore\")\n",
        "# %matplotlib inline "
      ],
      "execution_count": null,
      "outputs": []
    },
    {
      "cell_type": "markdown",
      "metadata": {
        "id": "O0opykguqJQE"
      },
      "source": [
        "# Exploratory Data Analysis (EDA)\n",
        "\n"
      ]
    },
    {
      "cell_type": "code",
      "metadata": {
        "colab": {
          "base_uri": "https://localhost:8080/"
        },
        "id": "S945bB3BqJQG",
        "outputId": "3db9d6e0-3cc2-457b-f265-b7b2809a65c6"
      },
      "source": [
        "! unzip \"news_fake-n-true.csv.zip\""
      ],
      "execution_count": null,
      "outputs": [
        {
          "output_type": "stream",
          "text": [
            "Archive:  news_fake-n-true.csv.zip\n",
            "  inflating: news_fake-n-true.csv    \n",
            "  inflating: __MACOSX/._news_fake-n-true.csv  \n"
          ],
          "name": "stdout"
        }
      ]
    },
    {
      "cell_type": "code",
      "metadata": {
        "colab": {
          "base_uri": "https://localhost:8080/",
          "height": 173
        },
        "id": "Lu0kQmqMqJQI",
        "outputId": "dacdc024-6bef-4b21-ab32-5b9e9468ab84"
      },
      "source": [
        "data = pd.read_csv(\"news_fake-n-true.csv\")\n",
        "data.head(4)"
      ],
      "execution_count": null,
      "outputs": [
        {
          "output_type": "execute_result",
          "data": {
            "text/html": [
              "<div>\n",
              "<style scoped>\n",
              "    .dataframe tbody tr th:only-of-type {\n",
              "        vertical-align: middle;\n",
              "    }\n",
              "\n",
              "    .dataframe tbody tr th {\n",
              "        vertical-align: top;\n",
              "    }\n",
              "\n",
              "    .dataframe thead th {\n",
              "        text-align: right;\n",
              "    }\n",
              "</style>\n",
              "<table border=\"1\" class=\"dataframe\">\n",
              "  <thead>\n",
              "    <tr style=\"text-align: right;\">\n",
              "      <th></th>\n",
              "      <th>Unnamed: 0</th>\n",
              "      <th>title</th>\n",
              "      <th>text</th>\n",
              "      <th>subject</th>\n",
              "      <th>date</th>\n",
              "      <th>label</th>\n",
              "    </tr>\n",
              "  </thead>\n",
              "  <tbody>\n",
              "    <tr>\n",
              "      <th>0</th>\n",
              "      <td>0</td>\n",
              "      <td>ADVISORY: Story on Kushner visiting Iraq withd...</td>\n",
              "      <td>(Reuters) - The story “Trump son-in-law Jared ...</td>\n",
              "      <td>politicsNews</td>\n",
              "      <td>April 3, 2017</td>\n",
              "      <td>1</td>\n",
              "    </tr>\n",
              "    <tr>\n",
              "      <th>1</th>\n",
              "      <td>1</td>\n",
              "      <td>Kasich campaign denies report of Romney endors...</td>\n",
              "      <td>WASHINGTON (Reuters) - Republican presidential...</td>\n",
              "      <td>politicsNews</td>\n",
              "      <td>March 14, 2016</td>\n",
              "      <td>1</td>\n",
              "    </tr>\n",
              "    <tr>\n",
              "      <th>2</th>\n",
              "      <td>2</td>\n",
              "      <td>WATCH: Colbert Devises Perfect Advertisement ...</td>\n",
              "      <td>If America is going to end the day Donald Trum...</td>\n",
              "      <td>News</td>\n",
              "      <td>May 20, 2016</td>\n",
              "      <td>0</td>\n",
              "    </tr>\n",
              "    <tr>\n",
              "      <th>3</th>\n",
              "      <td>3</td>\n",
              "      <td>Trump says hopes for Cuban 'freedom' after Cas...</td>\n",
              "      <td>WEST PALM BEACH, Fla. (Reuters) - U.S. Preside...</td>\n",
              "      <td>politicsNews</td>\n",
              "      <td>November 26, 2016</td>\n",
              "      <td>1</td>\n",
              "    </tr>\n",
              "  </tbody>\n",
              "</table>\n",
              "</div>"
            ],
            "text/plain": [
              "   Unnamed: 0  ... label\n",
              "0           0  ...     1\n",
              "1           1  ...     1\n",
              "2           2  ...     0\n",
              "3           3  ...     1\n",
              "\n",
              "[4 rows x 6 columns]"
            ]
          },
          "metadata": {
            "tags": []
          },
          "execution_count": 4
        }
      ]
    },
    {
      "cell_type": "markdown",
      "metadata": {
        "id": "yFGG3RFCqJQJ"
      },
      "source": [
        "**колонка label отвечает за тип новости: настоящие имеют лейбл 1,  фейковые новости -- с лейблом 0** "
      ]
    },
    {
      "cell_type": "code",
      "metadata": {
        "colab": {
          "base_uri": "https://localhost:8080/",
          "height": 419
        },
        "id": "UiHzUaJZqJQK",
        "outputId": "ab40cff3-1cc4-4b45-8b70-0fd0109a604c"
      },
      "source": [
        "# создадим новый датафрейм из старого\n",
        "\n",
        "data_clean = data.drop(['Unnamed: 0','title','subject','date'], axis=1)\n",
        "\n",
        "display(data_clean)"
      ],
      "execution_count": null,
      "outputs": [
        {
          "output_type": "display_data",
          "data": {
            "text/html": [
              "<div>\n",
              "<style scoped>\n",
              "    .dataframe tbody tr th:only-of-type {\n",
              "        vertical-align: middle;\n",
              "    }\n",
              "\n",
              "    .dataframe tbody tr th {\n",
              "        vertical-align: top;\n",
              "    }\n",
              "\n",
              "    .dataframe thead th {\n",
              "        text-align: right;\n",
              "    }\n",
              "</style>\n",
              "<table border=\"1\" class=\"dataframe\">\n",
              "  <thead>\n",
              "    <tr style=\"text-align: right;\">\n",
              "      <th></th>\n",
              "      <th>text</th>\n",
              "      <th>label</th>\n",
              "    </tr>\n",
              "  </thead>\n",
              "  <tbody>\n",
              "    <tr>\n",
              "      <th>0</th>\n",
              "      <td>(Reuters) - The story “Trump son-in-law Jared ...</td>\n",
              "      <td>1</td>\n",
              "    </tr>\n",
              "    <tr>\n",
              "      <th>1</th>\n",
              "      <td>WASHINGTON (Reuters) - Republican presidential...</td>\n",
              "      <td>1</td>\n",
              "    </tr>\n",
              "    <tr>\n",
              "      <th>2</th>\n",
              "      <td>If America is going to end the day Donald Trum...</td>\n",
              "      <td>0</td>\n",
              "    </tr>\n",
              "    <tr>\n",
              "      <th>3</th>\n",
              "      <td>WEST PALM BEACH, Fla. (Reuters) - U.S. Preside...</td>\n",
              "      <td>1</td>\n",
              "    </tr>\n",
              "    <tr>\n",
              "      <th>4</th>\n",
              "      <td>Well, it seems that despite the efforts of not...</td>\n",
              "      <td>0</td>\n",
              "    </tr>\n",
              "    <tr>\n",
              "      <th>...</th>\n",
              "      <td>...</td>\n",
              "      <td>...</td>\n",
              "    </tr>\n",
              "    <tr>\n",
              "      <th>44893</th>\n",
              "      <td>Donald Trump s economic proposals would be dis...</td>\n",
              "      <td>0</td>\n",
              "    </tr>\n",
              "    <tr>\n",
              "      <th>44894</th>\n",
              "      <td>INDIANAPOLIS (Reuters) - President Donald Trum...</td>\n",
              "      <td>1</td>\n",
              "    </tr>\n",
              "    <tr>\n",
              "      <th>44895</th>\n",
              "      <td>During a private meeting of the most senior Re...</td>\n",
              "      <td>0</td>\n",
              "    </tr>\n",
              "    <tr>\n",
              "      <th>44896</th>\n",
              "      <td>AMMAN (Reuters) - Sabih al-Masri, Jordan s mos...</td>\n",
              "      <td>1</td>\n",
              "    </tr>\n",
              "    <tr>\n",
              "      <th>44897</th>\n",
              "      <td>BEIRUT (Reuters) - Lebanese President Michel A...</td>\n",
              "      <td>1</td>\n",
              "    </tr>\n",
              "  </tbody>\n",
              "</table>\n",
              "<p>44898 rows × 2 columns</p>\n",
              "</div>"
            ],
            "text/plain": [
              "                                                    text  label\n",
              "0      (Reuters) - The story “Trump son-in-law Jared ...      1\n",
              "1      WASHINGTON (Reuters) - Republican presidential...      1\n",
              "2      If America is going to end the day Donald Trum...      0\n",
              "3      WEST PALM BEACH, Fla. (Reuters) - U.S. Preside...      1\n",
              "4      Well, it seems that despite the efforts of not...      0\n",
              "...                                                  ...    ...\n",
              "44893  Donald Trump s economic proposals would be dis...      0\n",
              "44894  INDIANAPOLIS (Reuters) - President Donald Trum...      1\n",
              "44895  During a private meeting of the most senior Re...      0\n",
              "44896  AMMAN (Reuters) - Sabih al-Masri, Jordan s mos...      1\n",
              "44897  BEIRUT (Reuters) - Lebanese President Michel A...      1\n",
              "\n",
              "[44898 rows x 2 columns]"
            ]
          },
          "metadata": {
            "tags": []
          }
        }
      ]
    },
    {
      "cell_type": "markdown",
      "metadata": {
        "id": "jzSLz8zoqJQM"
      },
      "source": [
        "распределение настоящих и фейковых новостей примерно равное"
      ]
    },
    {
      "cell_type": "code",
      "metadata": {
        "colab": {
          "base_uri": "https://localhost:8080/",
          "height": 264
        },
        "id": "Xw6cWoLpqJQM",
        "outputId": "a255e48c-c53f-42a5-d68e-94a252ac8aab"
      },
      "source": [
        "classes =pd.value_counts(data_clean[\"label\"])\n",
        "\n",
        "classes.plot(kind = 'pie',  autopct='%0.f%%') \n",
        "plt.title(\"Classes distribution\")\n",
        "plt.ylabel('')\n",
        "\n",
        "plt.show()"
      ],
      "execution_count": null,
      "outputs": [
        {
          "output_type": "display_data",
          "data": {
            "image/png": "[encoded data removed]",
            "text/plain": [
              "<Figure size 432x288 with 1 Axes>"
            ]
          },
          "metadata": {
            "tags": []
          }
        }
      ]
    },
    {
      "cell_type": "markdown",
      "metadata": {
        "id": "0PPJniyYqJQN"
      },
      "source": [
        "**давайте попробуем предсказать:** окажется ли текст настоящей новостью или фейковой\n",
        "\n",
        "- Векторизуйте тексты\n",
        "- Разделите данные на обучающую и тестовую выборку\n",
        "\n",
        "Попробуйте обучить разные модели для классификации на данных\n",
        "1. Naive Bayes\n",
        "2. SVM \n",
        "3. Decision Trees\n",
        "4. Random Forest\n",
        "5. Boosting\n",
        "\n",
        "Для каждой модели посмотрите на метрики с помощью функции [classification report](https://scikit-learn.org/stable/modules/generated/sklearn.metrics.classification_report.html).\n",
        "\n",
        "Какая/какие модель/ли справляются с задачей наиболее эффективно?"
      ]
    },
    {
      "cell_type": "markdown",
      "metadata": {
        "id": "Vu8uiEktfeXF"
      },
      "source": [
        "1. Naive Bayes"
      ]
    },
    {
      "cell_type": "code",
      "metadata": {
        "id": "KNrJI_TyqJQO"
      },
      "source": [
        "f = feature_extraction.text.CountVectorizer(stop_words = 'english')\n",
        "X = f.fit_transform(data[\"text\"])\n",
        "#print(f.get_feature_names()) # посмотрим на признаки\n",
        "\n"
      ],
      "execution_count": null,
      "outputs": []
    },
    {
      "cell_type": "code",
      "metadata": {
        "colab": {
          "base_uri": "https://localhost:8080/"
        },
        "id": "NX7jfiUGQ4ZO",
        "outputId": "4bd8f00a-92d9-4453-fb7d-d261415be039"
      },
      "source": [
        "# новые переменные\n",
        "X_train, X_test, y_train, y_test = model_selection.train_test_split(X, data['label'], \n",
        "                                                                    test_size=0.2, random_state=50)\n",
        "\n",
        "# print(X_train.shape, X_test.shape)\n",
        "sum(y_test == 1)"
      ],
      "execution_count": null,
      "outputs": [
        {
          "output_type": "execute_result",
          "data": {
            "text/plain": [
              "4262"
            ]
          },
          "metadata": {
            "tags": []
          },
          "execution_count": 8
        }
      ]
    },
    {
      "cell_type": "code",
      "metadata": {
        "id": "46XGCjOaQ-KF"
      },
      "source": [
        "list_alpha = np.arange(1/10000000, 1, 0.05) \n",
        "#возьмем лист равномерно распределенных значений от 1/100000 до 20(можно выбрать другие числа,эти были выбраны экспериментально)\n",
        "\n",
        "\n",
        "score_train = np.zeros(len(list_alpha)) # задали пустые списки по длине изначального листа\n",
        "score_test = np.zeros(len(list_alpha))\n",
        "recall_test = np.zeros(len(list_alpha))\n",
        "precision_test= np.zeros(len(list_alpha))\n",
        "count = 0"
      ],
      "execution_count": null,
      "outputs": []
    },
    {
      "cell_type": "code",
      "metadata": {
        "id": "eycOOE4cQ-U9"
      },
      "source": [
        "for alpha in list_alpha: # для каждого значения в списке альф\n",
        "    bayes = naive_bayes.MultinomialNB(alpha=alpha) # используем модель\n",
        "    bayes.fit(X_train, y_train) # тренируем модель\n",
        "    \n",
        "    score_train[count] = bayes.score(X_train, y_train) # итерируемся по индексу в листе, добавляем значения accuracy\n",
        "    # score_train? \n",
        "    \n",
        "    score_test[count]= bayes.score(X_test, y_test)\n",
        "    # score_test ? \n",
        "    \n",
        "    recall_test[count] = metrics.recall_score(y_test, bayes.predict(X_test))\n",
        "    precision_test[count] = metrics.precision_score(y_test, bayes.predict(X_test))\n",
        "    \n",
        "    count = count + 1 # после одной итерации, делаем новый шаг"
      ],
      "execution_count": null,
      "outputs": []
    },
    {
      "cell_type": "code",
      "metadata": {
        "colab": {
          "base_uri": "https://localhost:8080/",
          "height": 376
        },
        "id": "g4WMXoqbRmAm",
        "outputId": "c9340e9d-7a80-495f-acb2-921ec00ac274"
      },
      "source": [
        "matrix = np.matrix(np.c_[list_alpha, score_train, score_test, recall_test, precision_test])\n",
        "models = pd.DataFrame(data = matrix, columns = \n",
        "             ['alpha', 'Train Accuracy', 'Test Accuracy', 'Test Recall', 'Test Precision'])\n",
        "\n",
        "\n",
        "display(models.head(10))\n",
        "\n",
        "display(matrix.shape)"
      ],
      "execution_count": null,
      "outputs": [
        {
          "output_type": "display_data",
          "data": {
            "text/html": [
              "<div>\n",
              "<style scoped>\n",
              "    .dataframe tbody tr th:only-of-type {\n",
              "        vertical-align: middle;\n",
              "    }\n",
              "\n",
              "    .dataframe tbody tr th {\n",
              "        vertical-align: top;\n",
              "    }\n",
              "\n",
              "    .dataframe thead th {\n",
              "        text-align: right;\n",
              "    }\n",
              "</style>\n",
              "<table border=\"1\" class=\"dataframe\">\n",
              "  <thead>\n",
              "    <tr style=\"text-align: right;\">\n",
              "      <th></th>\n",
              "      <th>alpha</th>\n",
              "      <th>Train Accuracy</th>\n",
              "      <th>Test Accuracy</th>\n",
              "      <th>Test Recall</th>\n",
              "      <th>Test Precision</th>\n",
              "    </tr>\n",
              "  </thead>\n",
              "  <tbody>\n",
              "    <tr>\n",
              "      <th>0</th>\n",
              "      <td>1.000000e-07</td>\n",
              "      <td>0.981708</td>\n",
              "      <td>0.961024</td>\n",
              "      <td>0.946739</td>\n",
              "      <td>0.970418</td>\n",
              "    </tr>\n",
              "    <tr>\n",
              "      <th>1</th>\n",
              "      <td>5.000010e-02</td>\n",
              "      <td>0.966368</td>\n",
              "      <td>0.958463</td>\n",
              "      <td>0.953778</td>\n",
              "      <td>0.958500</td>\n",
              "    </tr>\n",
              "    <tr>\n",
              "      <th>2</th>\n",
              "      <td>1.000001e-01</td>\n",
              "      <td>0.964753</td>\n",
              "      <td>0.958018</td>\n",
              "      <td>0.953778</td>\n",
              "      <td>0.957597</td>\n",
              "    </tr>\n",
              "    <tr>\n",
              "      <th>3</th>\n",
              "      <td>1.500001e-01</td>\n",
              "      <td>0.963751</td>\n",
              "      <td>0.957795</td>\n",
              "      <td>0.953778</td>\n",
              "      <td>0.957146</td>\n",
              "    </tr>\n",
              "    <tr>\n",
              "      <th>4</th>\n",
              "      <td>2.000001e-01</td>\n",
              "      <td>0.962943</td>\n",
              "      <td>0.958018</td>\n",
              "      <td>0.954247</td>\n",
              "      <td>0.957166</td>\n",
              "    </tr>\n",
              "    <tr>\n",
              "      <th>5</th>\n",
              "      <td>2.500001e-01</td>\n",
              "      <td>0.962609</td>\n",
              "      <td>0.958018</td>\n",
              "      <td>0.954247</td>\n",
              "      <td>0.957166</td>\n",
              "    </tr>\n",
              "    <tr>\n",
              "      <th>6</th>\n",
              "      <td>3.000001e-01</td>\n",
              "      <td>0.962108</td>\n",
              "      <td>0.957461</td>\n",
              "      <td>0.953778</td>\n",
              "      <td>0.956471</td>\n",
              "    </tr>\n",
              "    <tr>\n",
              "      <th>7</th>\n",
              "      <td>3.500001e-01</td>\n",
              "      <td>0.961774</td>\n",
              "      <td>0.957461</td>\n",
              "      <td>0.954012</td>\n",
              "      <td>0.956256</td>\n",
              "    </tr>\n",
              "    <tr>\n",
              "      <th>8</th>\n",
              "      <td>4.000001e-01</td>\n",
              "      <td>0.961301</td>\n",
              "      <td>0.956904</td>\n",
              "      <td>0.954012</td>\n",
              "      <td>0.955133</td>\n",
              "    </tr>\n",
              "    <tr>\n",
              "      <th>9</th>\n",
              "      <td>4.500001e-01</td>\n",
              "      <td>0.960967</td>\n",
              "      <td>0.956793</td>\n",
              "      <td>0.953778</td>\n",
              "      <td>0.955122</td>\n",
              "    </tr>\n",
              "  </tbody>\n",
              "</table>\n",
              "</div>"
            ],
            "text/plain": [
              "          alpha  Train Accuracy  Test Accuracy  Test Recall  Test Precision\n",
              "0  1.000000e-07        0.981708       0.961024     0.946739        0.970418\n",
              "1  5.000010e-02        0.966368       0.958463     0.953778        0.958500\n",
              "2  1.000001e-01        0.964753       0.958018     0.953778        0.957597\n",
              "3  1.500001e-01        0.963751       0.957795     0.953778        0.957146\n",
              "4  2.000001e-01        0.962943       0.958018     0.954247        0.957166\n",
              "5  2.500001e-01        0.962609       0.958018     0.954247        0.957166\n",
              "6  3.000001e-01        0.962108       0.957461     0.953778        0.956471\n",
              "7  3.500001e-01        0.961774       0.957461     0.954012        0.956256\n",
              "8  4.000001e-01        0.961301       0.956904     0.954012        0.955133\n",
              "9  4.500001e-01        0.960967       0.956793     0.953778        0.955122"
            ]
          },
          "metadata": {
            "tags": []
          }
        },
        {
          "output_type": "display_data",
          "data": {
            "text/plain": [
              "(20, 5)"
            ]
          },
          "metadata": {
            "tags": []
          }
        }
      ]
    },
    {
      "cell_type": "code",
      "metadata": {
        "colab": {
          "base_uri": "https://localhost:8080/",
          "height": 119
        },
        "id": "UCJlggPCR33G",
        "outputId": "cb3baf6e-6a45-45a0-b4d6-fb1c7bcf3821"
      },
      "source": [
        "best_index = models['Test Precision'].idxmax()\n",
        "best_index\n",
        "\n",
        "# display(best_index)\n",
        "\n",
        "display(models.iloc[best_index])"
      ],
      "execution_count": null,
      "outputs": [
        {
          "output_type": "display_data",
          "data": {
            "text/plain": [
              "alpha             1.000000e-07\n",
              "Train Accuracy    9.817083e-01\n",
              "Test Accuracy     9.610245e-01\n",
              "Test Recall       9.467386e-01\n",
              "Test Precision    9.704185e-01\n",
              "Name: 0, dtype: float64"
            ]
          },
          "metadata": {
            "tags": []
          }
        }
      ]
    },
    {
      "cell_type": "code",
      "metadata": {
        "colab": {
          "base_uri": "https://localhost:8080/",
          "height": 669
        },
        "id": "mpvKgwurSBlG",
        "outputId": "3ceaf40e-0874-4340-8c62-b45c299c5da4"
      },
      "source": [
        "models[models['Test Recall']>0.9].sort_values(by=\"Test Precision\", ascending = False)"
      ],
      "execution_count": null,
      "outputs": [
        {
          "output_type": "execute_result",
          "data": {
            "text/html": [
              "<div>\n",
              "<style scoped>\n",
              "    .dataframe tbody tr th:only-of-type {\n",
              "        vertical-align: middle;\n",
              "    }\n",
              "\n",
              "    .dataframe tbody tr th {\n",
              "        vertical-align: top;\n",
              "    }\n",
              "\n",
              "    .dataframe thead th {\n",
              "        text-align: right;\n",
              "    }\n",
              "</style>\n",
              "<table border=\"1\" class=\"dataframe\">\n",
              "  <thead>\n",
              "    <tr style=\"text-align: right;\">\n",
              "      <th></th>\n",
              "      <th>alpha</th>\n",
              "      <th>Train Accuracy</th>\n",
              "      <th>Test Accuracy</th>\n",
              "      <th>Test Recall</th>\n",
              "      <th>Test Precision</th>\n",
              "    </tr>\n",
              "  </thead>\n",
              "  <tbody>\n",
              "    <tr>\n",
              "      <th>0</th>\n",
              "      <td>1.000000e-07</td>\n",
              "      <td>0.981708</td>\n",
              "      <td>0.961024</td>\n",
              "      <td>0.946739</td>\n",
              "      <td>0.970418</td>\n",
              "    </tr>\n",
              "    <tr>\n",
              "      <th>1</th>\n",
              "      <td>5.000010e-02</td>\n",
              "      <td>0.966368</td>\n",
              "      <td>0.958463</td>\n",
              "      <td>0.953778</td>\n",
              "      <td>0.958500</td>\n",
              "    </tr>\n",
              "    <tr>\n",
              "      <th>2</th>\n",
              "      <td>1.000001e-01</td>\n",
              "      <td>0.964753</td>\n",
              "      <td>0.958018</td>\n",
              "      <td>0.953778</td>\n",
              "      <td>0.957597</td>\n",
              "    </tr>\n",
              "    <tr>\n",
              "      <th>4</th>\n",
              "      <td>2.000001e-01</td>\n",
              "      <td>0.962943</td>\n",
              "      <td>0.958018</td>\n",
              "      <td>0.954247</td>\n",
              "      <td>0.957166</td>\n",
              "    </tr>\n",
              "    <tr>\n",
              "      <th>5</th>\n",
              "      <td>2.500001e-01</td>\n",
              "      <td>0.962609</td>\n",
              "      <td>0.958018</td>\n",
              "      <td>0.954247</td>\n",
              "      <td>0.957166</td>\n",
              "    </tr>\n",
              "    <tr>\n",
              "      <th>3</th>\n",
              "      <td>1.500001e-01</td>\n",
              "      <td>0.963751</td>\n",
              "      <td>0.957795</td>\n",
              "      <td>0.953778</td>\n",
              "      <td>0.957146</td>\n",
              "    </tr>\n",
              "    <tr>\n",
              "      <th>6</th>\n",
              "      <td>3.000001e-01</td>\n",
              "      <td>0.962108</td>\n",
              "      <td>0.957461</td>\n",
              "      <td>0.953778</td>\n",
              "      <td>0.956471</td>\n",
              "    </tr>\n",
              "    <tr>\n",
              "      <th>7</th>\n",
              "      <td>3.500001e-01</td>\n",
              "      <td>0.961774</td>\n",
              "      <td>0.957461</td>\n",
              "      <td>0.954012</td>\n",
              "      <td>0.956256</td>\n",
              "    </tr>\n",
              "    <tr>\n",
              "      <th>8</th>\n",
              "      <td>4.000001e-01</td>\n",
              "      <td>0.961301</td>\n",
              "      <td>0.956904</td>\n",
              "      <td>0.954012</td>\n",
              "      <td>0.955133</td>\n",
              "    </tr>\n",
              "    <tr>\n",
              "      <th>9</th>\n",
              "      <td>4.500001e-01</td>\n",
              "      <td>0.960967</td>\n",
              "      <td>0.956793</td>\n",
              "      <td>0.953778</td>\n",
              "      <td>0.955122</td>\n",
              "    </tr>\n",
              "    <tr>\n",
              "      <th>10</th>\n",
              "      <td>5.000001e-01</td>\n",
              "      <td>0.960466</td>\n",
              "      <td>0.956570</td>\n",
              "      <td>0.953778</td>\n",
              "      <td>0.954674</td>\n",
              "    </tr>\n",
              "    <tr>\n",
              "      <th>11</th>\n",
              "      <td>5.500001e-01</td>\n",
              "      <td>0.960187</td>\n",
              "      <td>0.956347</td>\n",
              "      <td>0.953543</td>\n",
              "      <td>0.954439</td>\n",
              "    </tr>\n",
              "    <tr>\n",
              "      <th>12</th>\n",
              "      <td>6.000001e-01</td>\n",
              "      <td>0.959881</td>\n",
              "      <td>0.955791</td>\n",
              "      <td>0.953308</td>\n",
              "      <td>0.953532</td>\n",
              "    </tr>\n",
              "    <tr>\n",
              "      <th>13</th>\n",
              "      <td>6.500001e-01</td>\n",
              "      <td>0.959575</td>\n",
              "      <td>0.955679</td>\n",
              "      <td>0.953074</td>\n",
              "      <td>0.953521</td>\n",
              "    </tr>\n",
              "    <tr>\n",
              "      <th>14</th>\n",
              "      <td>7.000001e-01</td>\n",
              "      <td>0.959240</td>\n",
              "      <td>0.955345</td>\n",
              "      <td>0.953074</td>\n",
              "      <td>0.952850</td>\n",
              "    </tr>\n",
              "    <tr>\n",
              "      <th>15</th>\n",
              "      <td>7.500001e-01</td>\n",
              "      <td>0.959129</td>\n",
              "      <td>0.955345</td>\n",
              "      <td>0.953074</td>\n",
              "      <td>0.952850</td>\n",
              "    </tr>\n",
              "    <tr>\n",
              "      <th>16</th>\n",
              "      <td>8.000001e-01</td>\n",
              "      <td>0.959046</td>\n",
              "      <td>0.955345</td>\n",
              "      <td>0.953074</td>\n",
              "      <td>0.952850</td>\n",
              "    </tr>\n",
              "    <tr>\n",
              "      <th>17</th>\n",
              "      <td>8.500001e-01</td>\n",
              "      <td>0.958851</td>\n",
              "      <td>0.955011</td>\n",
              "      <td>0.953074</td>\n",
              "      <td>0.952180</td>\n",
              "    </tr>\n",
              "    <tr>\n",
              "      <th>18</th>\n",
              "      <td>9.000001e-01</td>\n",
              "      <td>0.958739</td>\n",
              "      <td>0.954900</td>\n",
              "      <td>0.953308</td>\n",
              "      <td>0.951745</td>\n",
              "    </tr>\n",
              "    <tr>\n",
              "      <th>19</th>\n",
              "      <td>9.500001e-01</td>\n",
              "      <td>0.958628</td>\n",
              "      <td>0.954566</td>\n",
              "      <td>0.953074</td>\n",
              "      <td>0.951288</td>\n",
              "    </tr>\n",
              "  </tbody>\n",
              "</table>\n",
              "</div>"
            ],
            "text/plain": [
              "           alpha  Train Accuracy  Test Accuracy  Test Recall  Test Precision\n",
              "0   1.000000e-07        0.981708       0.961024     0.946739        0.970418\n",
              "1   5.000010e-02        0.966368       0.958463     0.953778        0.958500\n",
              "2   1.000001e-01        0.964753       0.958018     0.953778        0.957597\n",
              "4   2.000001e-01        0.962943       0.958018     0.954247        0.957166\n",
              "5   2.500001e-01        0.962609       0.958018     0.954247        0.957166\n",
              "3   1.500001e-01        0.963751       0.957795     0.953778        0.957146\n",
              "6   3.000001e-01        0.962108       0.957461     0.953778        0.956471\n",
              "7   3.500001e-01        0.961774       0.957461     0.954012        0.956256\n",
              "8   4.000001e-01        0.961301       0.956904     0.954012        0.955133\n",
              "9   4.500001e-01        0.960967       0.956793     0.953778        0.955122\n",
              "10  5.000001e-01        0.960466       0.956570     0.953778        0.954674\n",
              "11  5.500001e-01        0.960187       0.956347     0.953543        0.954439\n",
              "12  6.000001e-01        0.959881       0.955791     0.953308        0.953532\n",
              "13  6.500001e-01        0.959575       0.955679     0.953074        0.953521\n",
              "14  7.000001e-01        0.959240       0.955345     0.953074        0.952850\n",
              "15  7.500001e-01        0.959129       0.955345     0.953074        0.952850\n",
              "16  8.000001e-01        0.959046       0.955345     0.953074        0.952850\n",
              "17  8.500001e-01        0.958851       0.955011     0.953074        0.952180\n",
              "18  9.000001e-01        0.958739       0.954900     0.953308        0.951745\n",
              "19  9.500001e-01        0.958628       0.954566     0.953074        0.951288"
            ]
          },
          "metadata": {
            "tags": []
          },
          "execution_count": 18
        }
      ]
    },
    {
      "cell_type": "code",
      "metadata": {
        "colab": {
          "base_uri": "https://localhost:8080/",
          "height": 419
        },
        "id": "lVaFJcVSSGyG",
        "outputId": "565caf7c-5232-4204-d21e-a1c8a4246984"
      },
      "source": [
        "bayes = naive_bayes.MultinomialNB(alpha= 1.000000e-09) # используем лучшую модель\n",
        "bayes.fit(X_train, y_train) # тренируем алгоритм на данных\n",
        "\n",
        "bayes.predict(X_test) # метод для предсказания\n",
        "\n",
        "# сделаем датафрейм с колонками для настоящего класса и для предсказанного\n",
        "\n",
        "new_df = pd.DataFrame(data = y_test)\n",
        "new_df[\"predicted\"]=bayes.predict(X_test) # добавляем новую колонку с предсказаниями\n",
        "\n",
        "new_df"
      ],
      "execution_count": null,
      "outputs": [
        {
          "output_type": "execute_result",
          "data": {
            "text/html": [
              "<div>\n",
              "<style scoped>\n",
              "    .dataframe tbody tr th:only-of-type {\n",
              "        vertical-align: middle;\n",
              "    }\n",
              "\n",
              "    .dataframe tbody tr th {\n",
              "        vertical-align: top;\n",
              "    }\n",
              "\n",
              "    .dataframe thead th {\n",
              "        text-align: right;\n",
              "    }\n",
              "</style>\n",
              "<table border=\"1\" class=\"dataframe\">\n",
              "  <thead>\n",
              "    <tr style=\"text-align: right;\">\n",
              "      <th></th>\n",
              "      <th>label</th>\n",
              "      <th>predicted</th>\n",
              "    </tr>\n",
              "  </thead>\n",
              "  <tbody>\n",
              "    <tr>\n",
              "      <th>18322</th>\n",
              "      <td>0</td>\n",
              "      <td>0</td>\n",
              "    </tr>\n",
              "    <tr>\n",
              "      <th>6805</th>\n",
              "      <td>0</td>\n",
              "      <td>0</td>\n",
              "    </tr>\n",
              "    <tr>\n",
              "      <th>11776</th>\n",
              "      <td>0</td>\n",
              "      <td>0</td>\n",
              "    </tr>\n",
              "    <tr>\n",
              "      <th>43603</th>\n",
              "      <td>1</td>\n",
              "      <td>1</td>\n",
              "    </tr>\n",
              "    <tr>\n",
              "      <th>1166</th>\n",
              "      <td>1</td>\n",
              "      <td>1</td>\n",
              "    </tr>\n",
              "    <tr>\n",
              "      <th>...</th>\n",
              "      <td>...</td>\n",
              "      <td>...</td>\n",
              "    </tr>\n",
              "    <tr>\n",
              "      <th>3814</th>\n",
              "      <td>0</td>\n",
              "      <td>0</td>\n",
              "    </tr>\n",
              "    <tr>\n",
              "      <th>27520</th>\n",
              "      <td>1</td>\n",
              "      <td>1</td>\n",
              "    </tr>\n",
              "    <tr>\n",
              "      <th>11071</th>\n",
              "      <td>0</td>\n",
              "      <td>1</td>\n",
              "    </tr>\n",
              "    <tr>\n",
              "      <th>2479</th>\n",
              "      <td>0</td>\n",
              "      <td>0</td>\n",
              "    </tr>\n",
              "    <tr>\n",
              "      <th>10428</th>\n",
              "      <td>1</td>\n",
              "      <td>0</td>\n",
              "    </tr>\n",
              "  </tbody>\n",
              "</table>\n",
              "<p>8980 rows × 2 columns</p>\n",
              "</div>"
            ],
            "text/plain": [
              "       label  predicted\n",
              "18322      0          0\n",
              "6805       0          0\n",
              "11776      0          0\n",
              "43603      1          1\n",
              "1166       1          1\n",
              "...      ...        ...\n",
              "3814       0          0\n",
              "27520      1          1\n",
              "11071      0          1\n",
              "2479       0          0\n",
              "10428      1          0\n",
              "\n",
              "[8980 rows x 2 columns]"
            ]
          },
          "metadata": {
            "tags": []
          },
          "execution_count": 19
        }
      ]
    },
    {
      "cell_type": "code",
      "metadata": {
        "colab": {
          "base_uri": "https://localhost:8080/",
          "height": 111
        },
        "id": "UPyfCd9BeBD7",
        "outputId": "ba6ac752-5e54-4abf-e90f-9954dee9f207"
      },
      "source": [
        "m_confusion_test = metrics.confusion_matrix(y_test, bayes.predict(X_test))\n",
        "\n",
        "\n",
        "pd.DataFrame(data = m_confusion_test, columns = ['Predicted news', 'Predicted fakes'],\n",
        "            index = ['Actual news', 'Actual fakes'])"
      ],
      "execution_count": null,
      "outputs": [
        {
          "output_type": "execute_result",
          "data": {
            "text/html": [
              "<div>\n",
              "<style scoped>\n",
              "    .dataframe tbody tr th:only-of-type {\n",
              "        vertical-align: middle;\n",
              "    }\n",
              "\n",
              "    .dataframe tbody tr th {\n",
              "        vertical-align: top;\n",
              "    }\n",
              "\n",
              "    .dataframe thead th {\n",
              "        text-align: right;\n",
              "    }\n",
              "</style>\n",
              "<table border=\"1\" class=\"dataframe\">\n",
              "  <thead>\n",
              "    <tr style=\"text-align: right;\">\n",
              "      <th></th>\n",
              "      <th>Predicted news</th>\n",
              "      <th>Predicted fakes</th>\n",
              "    </tr>\n",
              "  </thead>\n",
              "  <tbody>\n",
              "    <tr>\n",
              "      <th>Actual news</th>\n",
              "      <td>4598</td>\n",
              "      <td>120</td>\n",
              "    </tr>\n",
              "    <tr>\n",
              "      <th>Actual fakes</th>\n",
              "      <td>238</td>\n",
              "      <td>4024</td>\n",
              "    </tr>\n",
              "  </tbody>\n",
              "</table>\n",
              "</div>"
            ],
            "text/plain": [
              "              Predicted news  Predicted fakes\n",
              "Actual news             4598              120\n",
              "Actual fakes             238             4024"
            ]
          },
          "metadata": {
            "tags": []
          },
          "execution_count": 20
        }
      ]
    },
    {
      "cell_type": "code",
      "metadata": {
        "colab": {
          "base_uri": "https://localhost:8080/"
        },
        "id": "ku00YuAg7pSQ",
        "outputId": "3872f24a-942d-4f5d-a8d3-0c34adaca7e9"
      },
      "source": [
        "y_true = y_test\n",
        "y_pred = bayes.predict(X_test)\n",
        "print(classification_report(y_true, y_pred, labels=[0, 1]))"
      ],
      "execution_count": null,
      "outputs": [
        {
          "output_type": "stream",
          "text": [
            "              precision    recall  f1-score   support\n",
            "\n",
            "           0       0.95      0.97      0.96      4718\n",
            "           1       0.97      0.94      0.96      4262\n",
            "\n",
            "    accuracy                           0.96      8980\n",
            "   macro avg       0.96      0.96      0.96      8980\n",
            "weighted avg       0.96      0.96      0.96      8980\n",
            "\n"
          ],
          "name": "stdout"
        }
      ]
    },
    {
      "cell_type": "markdown",
      "metadata": {
        "id": "cjWya_5MYwec"
      },
      "source": [
        "2. SVM\n",
        "\n",
        "> Метод опорных векторов применить не удалось из-за большого размера датасета и, соответственно, очень большого количества времени, необходимого для его обработки.\n",
        "\n"
      ]
    },
    {
      "cell_type": "markdown",
      "metadata": {
        "id": "LRsD6w2AgJKA"
      },
      "source": [
        "3. Decision Tree"
      ]
    },
    {
      "cell_type": "code",
      "metadata": {
        "id": "2lkW_Je8Yx7q"
      },
      "source": [
        "tree_clf = DecisionTreeClassifier()\n",
        "tree_clf.fit(X_train, y_train)\n",
        "tree_y_pred = tree_clf.predict(X_test)\n",
        "print(classification_report(y_test, tree_y_pred))"
      ],
      "execution_count": null,
      "outputs": []
    },
    {
      "cell_type": "code",
      "metadata": {
        "id": "Ibz2H1668Cs1",
        "colab": {
          "base_uri": "https://localhost:8080/",
          "height": 111
        },
        "outputId": "1d571350-6915-45eb-c496-ddaa2eaa0597"
      },
      "source": [
        "m_confusion_test = metrics.confusion_matrix(y_test, tree_y_pred)\n",
        "\n",
        "\n",
        "pd.DataFrame(data = m_confusion_test, columns = ['Predicted news', 'Predicted fakes'],\n",
        "            index = ['Actual news', 'Actual fakes'])"
      ],
      "execution_count": null,
      "outputs": [
        {
          "output_type": "execute_result",
          "data": {
            "text/html": [
              "<div>\n",
              "<style scoped>\n",
              "    .dataframe tbody tr th:only-of-type {\n",
              "        vertical-align: middle;\n",
              "    }\n",
              "\n",
              "    .dataframe tbody tr th {\n",
              "        vertical-align: top;\n",
              "    }\n",
              "\n",
              "    .dataframe thead th {\n",
              "        text-align: right;\n",
              "    }\n",
              "</style>\n",
              "<table border=\"1\" class=\"dataframe\">\n",
              "  <thead>\n",
              "    <tr style=\"text-align: right;\">\n",
              "      <th></th>\n",
              "      <th>Predicted news</th>\n",
              "      <th>Predicted fakes</th>\n",
              "    </tr>\n",
              "  </thead>\n",
              "  <tbody>\n",
              "    <tr>\n",
              "      <th>Actual news</th>\n",
              "      <td>4700</td>\n",
              "      <td>18</td>\n",
              "    </tr>\n",
              "    <tr>\n",
              "      <th>Actual fakes</th>\n",
              "      <td>17</td>\n",
              "      <td>4245</td>\n",
              "    </tr>\n",
              "  </tbody>\n",
              "</table>\n",
              "</div>"
            ],
            "text/plain": [
              "              Predicted news  Predicted fakes\n",
              "Actual news             4700               18\n",
              "Actual fakes              17             4245"
            ]
          },
          "metadata": {
            "tags": []
          },
          "execution_count": 30
        }
      ]
    },
    {
      "cell_type": "markdown",
      "metadata": {
        "id": "i7JdKyNehQLP"
      },
      "source": [
        "4. Random Forest"
      ]
    },
    {
      "cell_type": "code",
      "metadata": {
        "id": "gc2AJZtaaDC1",
        "colab": {
          "base_uri": "https://localhost:8080/"
        },
        "outputId": "ab309f14-1fb0-432c-f559-d0c2d1d58e34"
      },
      "source": [
        "forest = RandomForestClassifier(n_estimators=500, verbose=1)\n",
        "forest.fit(X_train, y_train)\n",
        "forest_y_pred = forest.predict(X_test)\n",
        "print(classification_report(y_test, forest_y_pred))"
      ],
      "execution_count": null,
      "outputs": [
        {
          "output_type": "stream",
          "text": [
            "[Parallel(n_jobs=1)]: Using backend SequentialBackend with 1 concurrent workers.\n",
            "[Parallel(n_jobs=1)]: Done 500 out of 500 | elapsed: 11.5min finished\n",
            "[Parallel(n_jobs=1)]: Using backend SequentialBackend with 1 concurrent workers.\n"
          ],
          "name": "stderr"
        },
        {
          "output_type": "stream",
          "text": [
            "              precision    recall  f1-score   support\n",
            "\n",
            "           0       1.00      0.99      0.99      4718\n",
            "           1       0.99      0.99      0.99      4262\n",
            "\n",
            "    accuracy                           0.99      8980\n",
            "   macro avg       0.99      0.99      0.99      8980\n",
            "weighted avg       0.99      0.99      0.99      8980\n",
            "\n"
          ],
          "name": "stdout"
        },
        {
          "output_type": "stream",
          "text": [
            "[Parallel(n_jobs=1)]: Done 500 out of 500 | elapsed:    5.8s finished\n"
          ],
          "name": "stderr"
        }
      ]
    },
    {
      "cell_type": "code",
      "metadata": {
        "colab": {
          "base_uri": "https://localhost:8080/",
          "height": 111
        },
        "id": "8dc4S-OQlngd",
        "outputId": "5c790a8d-38f2-4d90-e9ab-a2c2fbf991cc"
      },
      "source": [
        "m_confusion_test = metrics.confusion_matrix(y_test, forest_y_pred)\n",
        "\n",
        "\n",
        "pd.DataFrame(data = m_confusion_test, columns = ['Predicted news', 'Predicted fakes'],\n",
        "            index = ['Actual news', 'Actual fakes'])"
      ],
      "execution_count": null,
      "outputs": [
        {
          "output_type": "execute_result",
          "data": {
            "text/html": [
              "<div>\n",
              "<style scoped>\n",
              "    .dataframe tbody tr th:only-of-type {\n",
              "        vertical-align: middle;\n",
              "    }\n",
              "\n",
              "    .dataframe tbody tr th {\n",
              "        vertical-align: top;\n",
              "    }\n",
              "\n",
              "    .dataframe thead th {\n",
              "        text-align: right;\n",
              "    }\n",
              "</style>\n",
              "<table border=\"1\" class=\"dataframe\">\n",
              "  <thead>\n",
              "    <tr style=\"text-align: right;\">\n",
              "      <th></th>\n",
              "      <th>Predicted news</th>\n",
              "      <th>Predicted fakes</th>\n",
              "    </tr>\n",
              "  </thead>\n",
              "  <tbody>\n",
              "    <tr>\n",
              "      <th>Actual news</th>\n",
              "      <td>4677</td>\n",
              "      <td>41</td>\n",
              "    </tr>\n",
              "    <tr>\n",
              "      <th>Actual fakes</th>\n",
              "      <td>22</td>\n",
              "      <td>4240</td>\n",
              "    </tr>\n",
              "  </tbody>\n",
              "</table>\n",
              "</div>"
            ],
            "text/plain": [
              "              Predicted news  Predicted fakes\n",
              "Actual news             4677               41\n",
              "Actual fakes              22             4240"
            ]
          },
          "metadata": {
            "tags": []
          },
          "execution_count": 23
        }
      ]
    },
    {
      "cell_type": "markdown",
      "metadata": {
        "id": "Em4jJpIpl1Kr"
      },
      "source": [
        "5. Boosting"
      ]
    },
    {
      "cell_type": "code",
      "metadata": {
        "colab": {
          "base_uri": "https://localhost:8080/"
        },
        "id": "jNWnl2pol3zM",
        "outputId": "aca64569-7b20-44e1-8e9d-41418e0b7acd"
      },
      "source": [
        "gb_clf = GradientBoostingClassifier(n_estimators=1000, random_state=10, verbose=1)\n",
        "gb_clf.fit(X_train, y_train)\n",
        "gb_y_pred = gb_clf.predict(X_test)\n",
        "print(classification_report(y_test, gb_y_pred))"
      ],
      "execution_count": null,
      "outputs": [
        {
          "output_type": "stream",
          "text": [
            "      Iter       Train Loss   Remaining Time \n",
            "         1           1.1982           52.07m\n",
            "         2           1.0459           50.56m\n",
            "         3           0.9191           50.02m\n",
            "         4           0.8120           49.52m\n",
            "         5           0.7206           49.40m\n",
            "         6           0.6419           49.27m\n",
            "         7           0.5738           49.34m\n",
            "         8           0.5145           49.42m\n",
            "         9           0.4622           49.35m\n",
            "        10           0.4167           49.44m\n",
            "        20           0.1666           48.90m\n",
            "        30           0.0856           48.31m\n",
            "        40           0.0556           47.55m\n",
            "        50           0.0434           46.63m\n",
            "        60           0.0394           45.87m\n",
            "        70           0.0332           45.11m\n",
            "        80           0.0305           44.46m\n",
            "        90           0.0288           43.76m\n",
            "       100           0.0273           43.16m\n",
            "       200           0.0181           37.80m\n",
            "       300           0.0128           32.86m\n",
            "       400           0.0104           28.08m\n",
            "       500           0.0082           23.36m\n",
            "       600           0.0065           18.66m\n",
            "       700           0.0055           13.99m\n",
            "       800           0.0047            9.33m\n",
            "       900           0.0041            4.67m\n",
            "      1000           0.0037            0.00s\n",
            "              precision    recall  f1-score   support\n",
            "\n",
            "           0       1.00      1.00      1.00      4718\n",
            "           1       0.99      1.00      1.00      4262\n",
            "\n",
            "    accuracy                           1.00      8980\n",
            "   macro avg       1.00      1.00      1.00      8980\n",
            "weighted avg       1.00      1.00      1.00      8980\n",
            "\n"
          ],
          "name": "stdout"
        }
      ]
    },
    {
      "cell_type": "code",
      "metadata": {
        "colab": {
          "base_uri": "https://localhost:8080/",
          "height": 111
        },
        "id": "gVaENbE00SZJ",
        "outputId": "a892ed42-a007-4fa9-9186-b1ba0bf48c4c"
      },
      "source": [
        "m_confusion_test = metrics.confusion_matrix(y_test, gb_y_pred)\n",
        "\n",
        "\n",
        "pd.DataFrame(data = m_confusion_test, columns = ['Predicted news', 'Predicted fakes'],\n",
        "            index = ['Actual news', 'Actual fakes'])"
      ],
      "execution_count": null,
      "outputs": [
        {
          "output_type": "execute_result",
          "data": {
            "text/html": [
              "<div>\n",
              "<style scoped>\n",
              "    .dataframe tbody tr th:only-of-type {\n",
              "        vertical-align: middle;\n",
              "    }\n",
              "\n",
              "    .dataframe tbody tr th {\n",
              "        vertical-align: top;\n",
              "    }\n",
              "\n",
              "    .dataframe thead th {\n",
              "        text-align: right;\n",
              "    }\n",
              "</style>\n",
              "<table border=\"1\" class=\"dataframe\">\n",
              "  <thead>\n",
              "    <tr style=\"text-align: right;\">\n",
              "      <th></th>\n",
              "      <th>Predicted news</th>\n",
              "      <th>Predicted fakes</th>\n",
              "    </tr>\n",
              "  </thead>\n",
              "  <tbody>\n",
              "    <tr>\n",
              "      <th>Actual news</th>\n",
              "      <td>4696</td>\n",
              "      <td>22</td>\n",
              "    </tr>\n",
              "    <tr>\n",
              "      <th>Actual fakes</th>\n",
              "      <td>9</td>\n",
              "      <td>4253</td>\n",
              "    </tr>\n",
              "  </tbody>\n",
              "</table>\n",
              "</div>"
            ],
            "text/plain": [
              "              Predicted news  Predicted fakes\n",
              "Actual news             4696               22\n",
              "Actual fakes               9             4253"
            ]
          },
          "metadata": {
            "tags": []
          },
          "execution_count": 25
        }
      ]
    },
    {
      "cell_type": "markdown",
      "metadata": {
        "id": "VQnufw7hfmEj"
      },
      "source": [
        "Boosting + Early Stopping"
      ]
    },
    {
      "cell_type": "code",
      "metadata": {
        "colab": {
          "base_uri": "https://localhost:8080/"
        },
        "id": "gu1vkDxw89RQ",
        "outputId": "5e5ea32c-1f08-4b68-b8b6-40f9373f4d04"
      },
      "source": [
        "gb_clf_es = GradientBoostingClassifier(n_iter_no_change=5, verbose=10)\n",
        "gb_clf_es.fit(X_train, y_train)\n",
        "es_y_pred = gb_clf_es.predict(X_test)\n",
        "print(classification_report(y_test, es_y_pred))"
      ],
      "execution_count": null,
      "outputs": [
        {
          "output_type": "stream",
          "text": [
            "      Iter       Train Loss   Remaining Time \n",
            "         1           1.1981            4.59m\n",
            "         2           1.0458            4.44m\n",
            "         3           0.9188            4.34m\n",
            "         4           0.8116            4.24m\n",
            "         5           0.7201            4.17m\n",
            "         6           0.6414            4.16m\n",
            "         7           0.5732            4.14m\n",
            "         8           0.5138            4.09m\n",
            "         9           0.4619            4.06m\n",
            "        10           0.4162            4.00m\n",
            "        11           0.3760            3.94m\n",
            "        12           0.3403            3.90m\n",
            "        13           0.3088            3.87m\n",
            "        14           0.2808            3.82m\n",
            "        15           0.2559            3.76m\n",
            "        16           0.2338            3.72m\n",
            "        17           0.2141            3.68m\n",
            "        18           0.1964            3.64m\n",
            "        19           0.1808            3.60m\n",
            "        20           0.1665            3.57m\n",
            "        21           0.1538            3.52m\n",
            "        22           0.1425            3.47m\n",
            "        23           0.1324            3.43m\n",
            "        24           0.1235            3.38m\n",
            "        25           0.1149            3.34m\n",
            "        26           0.1075            3.29m\n",
            "        27           0.1009            3.25m\n",
            "        28           0.0948            3.20m\n",
            "        29           0.0893            3.15m\n",
            "        30           0.0843            3.11m\n",
            "        31           0.0798            3.07m\n",
            "        32           0.0756            3.02m\n",
            "        33           0.0723            2.98m\n",
            "        34           0.0688            2.93m\n",
            "        35           0.0659            2.89m\n",
            "        36           0.0635            2.84m\n",
            "        37           0.0614            2.80m\n",
            "        38           0.0593            2.76m\n",
            "        39           0.0571            2.71m\n",
            "        40           0.0555            2.66m\n",
            "        41           0.0540            2.62m\n",
            "        42           0.0528            2.57m\n",
            "        43           0.0517            2.52m\n",
            "        44           0.0502            2.48m\n",
            "        45           0.0487            2.43m\n",
            "        46           0.0470            2.38m\n",
            "        47           0.0468            2.33m\n",
            "        48           0.0459            2.29m\n",
            "        49           0.0457            2.24m\n",
            "        50           0.0456            2.19m\n",
            "        51           0.0447            2.15m\n",
            "        52           0.0445            2.10m\n",
            "        53           0.0437            2.06m\n",
            "        54           0.0429            2.01m\n",
            "        55           0.0428            1.97m\n",
            "        56           0.0428            1.92m\n",
            "        57           0.0422            1.88m\n",
            "        58           0.0414            1.83m\n",
            "        59           0.0406            1.79m\n",
            "        60           0.0397            1.74m\n",
            "        61           0.0392            1.69m\n",
            "        62           0.0380            1.65m\n",
            "        63           0.0372            1.60m\n",
            "        64           0.0366            1.56m\n",
            "        65           0.0358            1.51m\n",
            "        66           0.0352            1.47m\n",
            "        67           0.0344            1.43m\n",
            "        68           0.0338            1.38m\n",
            "        69           0.0337            1.34m\n",
            "        70           0.0336            1.29m\n",
            "        71           0.0334            1.25m\n",
            "        72           0.0331            1.21m\n",
            "        73           0.0329            1.16m\n",
            "        74           0.0327            1.12m\n",
            "        75           0.0325            1.07m\n",
            "        76           0.0324            1.03m\n",
            "              precision    recall  f1-score   support\n",
            "\n",
            "           0       1.00      0.99      1.00      4718\n",
            "           1       0.99      1.00      0.99      4262\n",
            "\n",
            "    accuracy                           1.00      8980\n",
            "   macro avg       1.00      1.00      1.00      8980\n",
            "weighted avg       1.00      1.00      1.00      8980\n",
            "\n"
          ],
          "name": "stdout"
        }
      ]
    },
    {
      "cell_type": "code",
      "metadata": {
        "colab": {
          "base_uri": "https://localhost:8080/",
          "height": 111
        },
        "id": "e00VEX_zEbmd",
        "outputId": "883103c7-5f13-4310-a3e3-f82911408125"
      },
      "source": [
        "m_confusion_test = metrics.confusion_matrix(y_test, es_y_pred)\n",
        "\n",
        "\n",
        "pd.DataFrame(data = m_confusion_test, columns = ['Predicted news', 'Predicted fakes'],\n",
        "            index = ['Actual news', 'Actual fakes'])"
      ],
      "execution_count": null,
      "outputs": [
        {
          "output_type": "execute_result",
          "data": {
            "text/html": [
              "<div>\n",
              "<style scoped>\n",
              "    .dataframe tbody tr th:only-of-type {\n",
              "        vertical-align: middle;\n",
              "    }\n",
              "\n",
              "    .dataframe tbody tr th {\n",
              "        vertical-align: top;\n",
              "    }\n",
              "\n",
              "    .dataframe thead th {\n",
              "        text-align: right;\n",
              "    }\n",
              "</style>\n",
              "<table border=\"1\" class=\"dataframe\">\n",
              "  <thead>\n",
              "    <tr style=\"text-align: right;\">\n",
              "      <th></th>\n",
              "      <th>Predicted news</th>\n",
              "      <th>Predicted fakes</th>\n",
              "    </tr>\n",
              "  </thead>\n",
              "  <tbody>\n",
              "    <tr>\n",
              "      <th>Actual news</th>\n",
              "      <td>4685</td>\n",
              "      <td>33</td>\n",
              "    </tr>\n",
              "    <tr>\n",
              "      <th>Actual fakes</th>\n",
              "      <td>10</td>\n",
              "      <td>4252</td>\n",
              "    </tr>\n",
              "  </tbody>\n",
              "</table>\n",
              "</div>"
            ],
            "text/plain": [
              "              Predicted news  Predicted fakes\n",
              "Actual news             4685               33\n",
              "Actual fakes              10             4252"
            ]
          },
          "metadata": {
            "tags": []
          },
          "execution_count": 28
        }
      ]
    },
    {
      "cell_type": "markdown",
      "metadata": {
        "id": "sWc-qFPUeaZS"
      },
      "source": [
        "**Вывод**\n",
        "\n",
        "> Наилучшие результаты показал Boosting. Чуть хуже справилась модель Boosting + Early Stopping. Далее по степени эффективности следуют Decision Tree, Random Forest и Naive Bayes."
      ]
    }
  ]
}