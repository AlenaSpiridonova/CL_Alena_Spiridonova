{
 "cells": [
  {
   "cell_type": "markdown",
   "metadata": {},
   "source": [
    "## Homework\n",
    "Задача 1. Напишите генератор названий компаний (почти как генератор паролей). Пусть в названии компании будет 6 частей, рандомно выбирающихся из списка names."
   ]
  },
  {
   "cell_type": "code",
   "execution_count": 91,
   "metadata": {},
   "outputs": [
    {
     "name": "stdout",
     "output_type": "stream",
     "text": [
      "«ПромИнвестВостокДевелопментНефтьТекстиль»\n"
     ]
    }
   ],
   "source": [
    "import random\n",
    "\n",
    "\n",
    "names = [\"пром\", \"агро\", \"торг\", \"урал\", \"север\", \"юг\", \"техно\", \n",
    "\"экспо\", \"метал\", \"нефть\", \"сельхоз\", \"фарм\", \"строй\", \n",
    "\"кредит\", \"алмаз\", \"-девелопмент\", \"развитие\", \"мос\", \n",
    "\"рос\", \"кубань\", \"сибирь\", \"восток\", \"нано\", \"софт\", \n",
    "\"микро\", \"онлайн\", \"инвест\", \"текстиль\", \"цемент\"]\n",
    "\n",
    "\n",
    "def generate_company_name(name_list):\n",
    "    # \"-девелопмент\" с дефисом выбивалось из общей картины, поэтому я добавила следующее условие, чтобы убрать дефис\n",
    "    name_list = [name.strip('-') for name in name_list]\n",
    "    # Чтобы итоговое название выглядело более читабельным, я сделала начальные буквы всех элементов заглавными\n",
    "    name_list = [name.title() for name in name_list]  \n",
    "    company_name = random.sample(name_list, 6)   # В отличие от random.choice random.sample не выдает повторяющихся элементов\n",
    "    return company_name\n",
    "\n",
    "\n",
    "print('«', ''.join(generate_company_name(names)), '»', sep = '')\n"
   ]
  },
  {
   "cell_type": "markdown",
   "metadata": {},
   "source": [
    "Задача 2. Транслитератор-2, более сложный\n",
    "\n",
    "Примерный порядок действий:\n",
    "\n",
    "напишите побуквенный транслитератор с кириллицы на латиницу(можно использовать написанный в прошлый раз)\n",
    "\n",
    "\"оберните\" ваш код транслитератора в функцию (т.е.сам код транслитератора будет в теле функции. Опишите функцию: как она называется, что у нее за аргументы, что она возвращает на выходе)\n",
    "\n",
    "Вызовите функцию: примените функцию к тексту (возьмите любой, на ваш выбор, длиной от 2 до 4 предложений. Хорошая идея - искать в статьях на Википедии)\n",
    "\n",
    "3.1. чтобы работать с текстом, сохраните его в переменную"
   ]
  },
  {
   "cell_type": "code",
   "execution_count": 43,
   "metadata": {},
   "outputs": [
    {
     "name": "stdout",
     "output_type": "stream",
     "text": [
      "Транслитерация - это просто! Введите текст, который Вы хотите транслитерировать: \n",
      "\n",
      "Вообще, в офисе Google буквально через каждые сто метров вы найдете место, где можно сварить латте. А еще можно приготовить коктейль или ведерко попкорна — идеальный вариант перекуса, пока смотришь сериал на Netflix, свернувшись в капсуле для сна. Именно этим и занималась половина сотрудников Google в четверг в 12:30. Увидев их, у меня появилось сильное желание устроиться в IT-компанию.\n",
      "\n",
      "Voobshche, v ofise Google bukvalyno cherez kazhdye sto metrov vy naydete mesto, gde mozhno svarity latte. A eshche mozhno prigotovity kokteyly ili vederko popkorna — idealynyy variant perekusa, poka smotrishy serial na Netflix, svernuvshisy v kapsule dlya sna. Imenno etim i zanimalasy polovina sotrudnikov Google v chetverg v 12:30. Uvidev ikh, u menya poyavilosy silynoe zhelanie ustroitysya v IT-kompaniyu.\n"
     ]
    }
   ],
   "source": [
    "translit_dict = {'а': 'a', 'б': 'b', 'в': 'v', 'г': 'g', 'д': 'd', 'е': 'e', 'ё': 'yo', 'ж': 'zh', 'з': 'z', 'и': 'i', 'й': 'y', 'к': 'k', 'л': 'l', 'м': 'm', 'н': 'n', 'о': 'o', 'п': 'p', 'р': 'r', 'с': 's', 'т': 't', 'у': 'u', 'ф': 'f', 'х': 'kh', 'ц': 'ts', 'ч': 'ch', 'ш': 'sh', 'щ': 'shch', 'ъ': 'y', 'ы': 'y', 'ь': 'y', 'э': 'e', 'ю': 'yu', 'я': 'ya'}\n",
    "\n",
    "input_str = input(\"Транслитерация - это просто! Введите текст, который Вы хотите транслитерировать: \\n\\n\")\n",
    "\n",
    "\n",
    "def transliterate_text(input_string):\n",
    "    text_list = list(input_string)\n",
    "    new_text_list = list(input_string.lower())\n",
    "    # Код взят из моего транслитератора слов, изменены только следующая строка, название функции и вступительная фраза\n",
    "    translit = [translit_dict[i] if i in translit_dict else i for i in new_text_list]\n",
    "    if translit[0] == 'e':\n",
    "        translit[0] = 'ye'\n",
    "    if input_string.isupper():\n",
    "        return ''.join(translit).upper()\n",
    "    else:\n",
    "        for i, val in enumerate(translit):\n",
    "            if text_list[i].isupper():\n",
    "                translit[i] = translit[i].title()\n",
    "    return translit\n",
    "\n",
    "\n",
    "result = transliterate_text(input_str)\n",
    "print('\\n', ''.join(result), sep='')"
   ]
  },
  {
   "cell_type": "markdown",
   "metadata": {},
   "source": [
    "Задача 3. Усовершенствованный генератор паролей\n",
    "\n",
    "Используя генератор паролей описанный в начале тетрадки, создайте свой. Пароли, получаемые в результате, должны удовлетворять следующим условиям:\n",
    "\n",
    " - длина пароля - 15 символов\n",
    " - в пароле есть 3 заглавные буквы (любые, в любом месте пароля)\n",
    " - в пароле есть 4 цифры (любые, в любом месте)\n",
    " - оставшиеся символы пароля - строчные латинские буквы"
   ]
  },
  {
   "cell_type": "code",
   "execution_count": 88,
   "metadata": {},
   "outputs": [
    {
     "name": "stdout",
     "output_type": "stream",
     "text": [
      "KCzbnnF8u2rc9l8\n"
     ]
    }
   ],
   "source": [
    "import random\n",
    "\n",
    "\n",
    "# Функция создания списка, обязательные элементы которого выбираются случайным образом в определенном количестве из \n",
    "# трех других списков, а потом случайным образом перемешиваются.\n",
    "def generate_random_list(random_list):\n",
    "    random_number_list = list('0123456789')\n",
    "    random_upper_alpha_list = list('QWERTYUIOPASDFGHJKLZXCVBNM')\n",
    "    random_lower_alpha_list = list('qwertyuiopasdfghjklzxcvbnm')\n",
    "    # Я решила использовать random.choices вместо random.sample для большего разнообразия при генерации паролей\n",
    "    random_list.extend(random.choices(random_number_list, k=4))\n",
    "    random_list.extend(random.choices(random_upper_alpha_list, k=3))\n",
    "    random_list.extend(random.choices(random_lower_alpha_list, k=8))\n",
    "    random.shuffle(random_list)\n",
    "    return random_list\n",
    "\n",
    "\n",
    "random_password_list = []\n",
    "passw = generate_random_list(random_password_list)\n",
    "print(''.join(passw))"
   ]
  }
 ],
 "metadata": {
  "kernelspec": {
   "display_name": "Python 3",
   "language": "python",
   "name": "python3"
  },
  "language_info": {
   "codemirror_mode": {
    "name": "ipython",
    "version": 3
   },
   "file_extension": ".py",
   "mimetype": "text/x-python",
   "name": "python",
   "nbconvert_exporter": "python",
   "pygments_lexer": "ipython3",
   "version": "3.7.4"
  }
 },
 "nbformat": 4,
 "nbformat_minor": 4
}
